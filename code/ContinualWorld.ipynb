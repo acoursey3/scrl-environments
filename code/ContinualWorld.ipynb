{
 "cells": [
  {
   "cell_type": "code",
   "execution_count": 11,
   "metadata": {},
   "outputs": [],
   "source": [
    "import metaworld\n",
    "import safety_gymnasium\n",
    "import numpy as np\n",
    "import imageio.v3 as iio\n",
    "import matplotlib.pyplot as plt\n",
    "import random"
   ]
  },
  {
   "cell_type": "code",
   "execution_count": 16,
   "metadata": {},
   "outputs": [
    {
     "name": "stderr",
     "output_type": "stream",
     "text": [
      "/home/austinc/.conda/envs/continual-rl/lib/python3.10/site-packages/gymnasium/spaces/box.py:130: UserWarning: \u001b[33mWARN: Box bound precision lowered by casting to float64\u001b[0m\n",
      "  gym.logger.warn(f\"Box bound precision lowered by casting to {self.dtype}\")\n"
     ]
    }
   ],
   "source": [
    "curr_name = 'safe-stick-pull' # try safe-hammer, safe-faucet, safe-push-wall, safe-push-back\n",
    "ml1 = metaworld.ML1(curr_name) # Construct the benchmark, sampling tasks\n",
    "env = ml1.train_classes[curr_name](render_mode=\"rgb_array\") \n",
    "task = random.choice(ml1.train_tasks)\n",
    "env.set_task(task)  \n",
    "env._partially_observable = False\n",
    "env._freeze_rand_vec = False\n",
    "\n",
    "env.reset()\n",
    "\n",
    "done = False\n",
    "rewards = []\n",
    "costs = []\n",
    "frames = []\n",
    "\n",
    "while not done:\n",
    "    action = env.action_space.sample()\n",
    "    obs, reward, terminated, truncated, info = env.step(action)\n",
    "    frame = env.render()  # Capture frame as RGB array\n",
    "    frames.append(frame)  # Add frame to the list\n",
    "    done = terminated or truncated\n",
    "    rewards.append(reward)\n",
    "    costs.append(info['unscaled_cost'])\n",
    "\n",
    "iio.imwrite(\"safe_continual_world.mp4\", frames, fps=30)  \n",
    "\n",
    "env.close()"
   ]
  },
  {
   "cell_type": "code",
   "execution_count": 17,
   "metadata": {},
   "outputs": [
    {
     "name": "stderr",
     "output_type": "stream",
     "text": [
      "/home/austinc/.conda/envs/continual-rl/lib/python3.10/site-packages/gymnasium/spaces/box.py:130: UserWarning: \u001b[33mWARN: Box bound precision lowered by casting to float64\u001b[0m\n",
      "  gym.logger.warn(f\"Box bound precision lowered by casting to {self.dtype}\")\n"
     ]
    }
   ],
   "source": [
    "env = safety_gymnasium.make('SafetyContinualWorld') # Continual World task sequence"
   ]
  }
 ],
 "metadata": {
  "kernelspec": {
   "display_name": "continual-rl",
   "language": "python",
   "name": "python3"
  },
  "language_info": {
   "codemirror_mode": {
    "name": "ipython",
    "version": 3
   },
   "file_extension": ".py",
   "mimetype": "text/x-python",
   "name": "python",
   "nbconvert_exporter": "python",
   "pygments_lexer": "ipython3",
   "version": "3.10.15"
  }
 },
 "nbformat": 4,
 "nbformat_minor": 2
}
